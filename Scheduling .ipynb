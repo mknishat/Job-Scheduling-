{
 "cells": [
  {
   "cell_type": "markdown",
   "id": "f6a20256-f5b2-4bdb-9147-4259b2ea9de7",
   "metadata": {},
   "source": [
    "***Problem Statement:***\n",
    "\n",
    "Salim wishes to define the scheduling of customers that he must attend in the next 3 days.\n",
    "\r\n",
    "The list of jobs (demands) with the duration ofthe  job and its profit is defined below\n",
    "\r\n",
    "A) duration 2h, profit 200 U.\n",
    "\n",
    "B) duration 3h, profit 500 SD.\n",
    "SD \r\n",
    "C) duration 5h, profit 30.\n",
    " USD\r\n",
    "D) duration 2h, profit 1.\n",
    "0 USD\r\n",
    "E) duration 6h, profit 1,.\n",
    "00 USD\r\n",
    "F) duration 4h, profit.\n",
    " 300 USD\r\n",
    "Salim wants to maximize the profit for the next 3 days working 6h per day. Whichshould hehe should attend.\n",
    " per day?\r\n",
    "- Neglect the trav\n",
    "- eling time\r\n",
    "-Ecan onlynd only can be at\n",
    "tended once\r",
    "es\n",
    "-Salim wish to dof o a maximum one .\n",
    "                  ∀d〗\r\n",
    "\n"
   ]
  },
  {
   "cell_type": "markdown",
   "id": "e27bd09a-754f-416a-9460-29584048b5d6",
   "metadata": {},
   "source": [
    "\n",
    "***Variables***\n",
    "\n",
    "x_(j,d)→ Binary decision on attending (or not) job j in day d.\n"
   ]
  },
  {
   "cell_type": "markdown",
   "id": "d8f409dd-964b-462b-802c-48388a45e288",
   "metadata": {},
   "source": [
    "***Parameters***\n",
    "\n",
    "P_j→ Profit for the job\n",
    "D_j → Duration of the job in hours\n",
    "T_h    → Number of hours in a working day (6).\n",
    "\n"
   ]
  },
  {
   "cell_type": "markdown",
   "id": "07856ea9-8d3c-4408-814b-0acc707d14b7",
   "metadata": {},
   "source": [
    "***Objective Function***.\n",
    "\n",
    "max∑_j∑_d〖x_(j,d)*P_j \n",
    "\n"
   ]
  },
  {
   "cell_type": "markdown",
   "id": "8fb2acc7-3e0d-47dd-b80a-d83cc42b4ea4",
   "metadata": {},
   "source": [
    "****Constraints***\n",
    "\n",
    "∑_d〖x_(j,d)*D_j≤T_h                 ∀d〗\n",
    "∑_d x_(j,d)≤1                           ∀j〗\n",
    "∑_d〖x_(j,d)≤1                           ∀d〗"
   ]
  },
  {
   "cell_type": "code",
   "execution_count": 15,
   "id": "40304166-18e6-4dbe-8cec-96985b3da6d5",
   "metadata": {},
   "outputs": [],
   "source": [
    "import pyomo.environ as pyo\n",
    "from pyomo.opt import SolverFactory"
   ]
  },
  {
   "cell_type": "code",
   "execution_count": 2,
   "id": "555152a1-5aee-4894-b981-2eabe9ffb47c",
   "metadata": {},
   "outputs": [],
   "source": [
    "m = pyo.ConcreteModel()"
   ]
  },
  {
   "cell_type": "code",
   "execution_count": 4,
   "id": "156e9a8f-eb66-428d-bd17-629a4ca08213",
   "metadata": {},
   "outputs": [],
   "source": [
    "m.setJ = pyo.Set(initialize=['A','B','C','D','E','F'])\n",
    "m.setD = pyo.Set(initialize=[1,2,3])\n",
    "m.D = {'A':2, 'B':3, 'C':5, 'D':2, 'E':6, 'F':4}\n",
    "m.P = {'A':200, 'B':500, 'C':300, 'D':100, 'E':1000, 'F':300}\n",
    "m.maxHours = 6"
   ]
  },
  {
   "cell_type": "code",
   "execution_count": 5,
   "id": "604fb335-1ff2-478c-ba1b-26912a7c02c5",
   "metadata": {},
   "outputs": [],
   "source": [
    "m.x = pyo.Var(m.setJ, m.setD, within=pyo.Binary)"
   ]
  },
  {
   "cell_type": "code",
   "execution_count": 6,
   "id": "6c5cce14-310b-49b2-86db-84fd69cd7634",
   "metadata": {},
   "outputs": [],
   "source": [
    "m.obj = pyo.Objective(expr = sum([m.x[j,d]*m.P[j] for j in m.setJ for d in m.setD]), sense=pyo.maximize)"
   ]
  },
  {
   "cell_type": "code",
   "execution_count": 7,
   "id": "bd76c3b4-8f6e-4277-9286-3f6cbfe8841e",
   "metadata": {},
   "outputs": [],
   "source": [
    "m.C1 = pyo.ConstraintList()\n",
    "m.C2 = pyo.ConstraintList()\n",
    "m.C3 = pyo.ConstraintList()"
   ]
  },
  {
   "cell_type": "code",
   "execution_count": 8,
   "id": "d2a37031-5db0-49d8-ae11-0324964c2a80",
   "metadata": {},
   "outputs": [],
   "source": [
    "for d in m.setD:\n",
    "    m.C1.add(sum([m.x[j,d]*m.D[j] for j in m.setJ]) <= m.maxHours)\n",
    "    m.C3.add(sum([m.x[j,d] for j in m.setJ]) <= 1)\n",
    "for j in m.setJ:\n",
    "    m.C2.add(sum([m.x[j,d] for d in m.setD]) <= 1)"
   ]
  },
  {
   "cell_type": "code",
   "execution_count": 9,
   "id": "44ca2095-2a8b-4aa3-81d9-186c57c8a4d4",
   "metadata": {},
   "outputs": [],
   "source": [
    "opt = SolverFactory('glpk')\n",
    "m.results = opt.solve(m)"
   ]
  },
  {
   "cell_type": "code",
   "execution_count": 10,
   "id": "7afb7de9-0677-4ea7-965a-af4453c10321",
   "metadata": {},
   "outputs": [
    {
     "name": "stdout",
     "output_type": "stream",
     "text": [
      "2 Set Declarations\n",
      "    setD : Size=1, Index=None, Ordered=Insertion\n",
      "        Key  : Dimen : Domain : Size : Members\n",
      "        None :     1 :    Any :    3 : {1, 2, 3}\n",
      "    setJ : Size=1, Index=None, Ordered=Insertion\n",
      "        Key  : Dimen : Domain : Size : Members\n",
      "        None :     1 :    Any :    6 : {'A', 'B', 'C', 'D', 'E', 'F'}\n",
      "\n",
      "1 Var Declarations\n",
      "    x : Size=18, Index=setJ*setD\n",
      "        Key      : Lower : Value : Upper : Fixed : Stale : Domain\n",
      "        ('A', 1) :     0 :   0.0 :     1 : False : False : Binary\n",
      "        ('A', 2) :     0 :   0.0 :     1 : False : False : Binary\n",
      "        ('A', 3) :     0 :   0.0 :     1 : False : False : Binary\n",
      "        ('B', 1) :     0 :   0.0 :     1 : False : False : Binary\n",
      "        ('B', 2) :     0 :   1.0 :     1 : False : False : Binary\n",
      "        ('B', 3) :     0 :   0.0 :     1 : False : False : Binary\n",
      "        ('C', 1) :     0 :   0.0 :     1 : False : False : Binary\n",
      "        ('C', 2) :     0 :   0.0 :     1 : False : False : Binary\n",
      "        ('C', 3) :     0 :   1.0 :     1 : False : False : Binary\n",
      "        ('D', 1) :     0 :   0.0 :     1 : False : False : Binary\n",
      "        ('D', 2) :     0 :   0.0 :     1 : False : False : Binary\n",
      "        ('D', 3) :     0 :   0.0 :     1 : False : False : Binary\n",
      "        ('E', 1) :     0 :   1.0 :     1 : False : False : Binary\n",
      "        ('E', 2) :     0 :   0.0 :     1 : False : False : Binary\n",
      "        ('E', 3) :     0 :   0.0 :     1 : False : False : Binary\n",
      "        ('F', 1) :     0 :   0.0 :     1 : False : False : Binary\n",
      "        ('F', 2) :     0 :   0.0 :     1 : False : False : Binary\n",
      "        ('F', 3) :     0 :   0.0 :     1 : False : False : Binary\n",
      "\n",
      "1 Objective Declarations\n",
      "    obj : Size=1, Index=None, Active=True\n",
      "        Key  : Active : Sense    : Expression\n",
      "        None :   True : maximize : 200*x[A,1] + 200*x[A,2] + 200*x[A,3] + 500*x[B,1] + 500*x[B,2] + 500*x[B,3] + 300*x[C,1] + 300*x[C,2] + 300*x[C,3] + 100*x[D,1] + 100*x[D,2] + 100*x[D,3] + 1000*x[E,1] + 1000*x[E,2] + 1000*x[E,3] + 300*x[F,1] + 300*x[F,2] + 300*x[F,3]\n",
      "\n",
      "3 Constraint Declarations\n",
      "    C1 : Size=3, Index={1, 2, 3}, Active=True\n",
      "        Key : Lower : Body                                                            : Upper : Active\n",
      "          1 :  -Inf : 2*x[A,1] + 3*x[B,1] + 5*x[C,1] + 2*x[D,1] + 6*x[E,1] + 4*x[F,1] :   6.0 :   True\n",
      "          2 :  -Inf : 2*x[A,2] + 3*x[B,2] + 5*x[C,2] + 2*x[D,2] + 6*x[E,2] + 4*x[F,2] :   6.0 :   True\n",
      "          3 :  -Inf : 2*x[A,3] + 3*x[B,3] + 5*x[C,3] + 2*x[D,3] + 6*x[E,3] + 4*x[F,3] :   6.0 :   True\n",
      "    C2 : Size=6, Index={1, 2, 3, 4, 5, 6}, Active=True\n",
      "        Key : Lower : Body                     : Upper : Active\n",
      "          1 :  -Inf : x[A,1] + x[A,2] + x[A,3] :   1.0 :   True\n",
      "          2 :  -Inf : x[B,1] + x[B,2] + x[B,3] :   1.0 :   True\n",
      "          3 :  -Inf : x[C,1] + x[C,2] + x[C,3] :   1.0 :   True\n",
      "          4 :  -Inf : x[D,1] + x[D,2] + x[D,3] :   1.0 :   True\n",
      "          5 :  -Inf : x[E,1] + x[E,2] + x[E,3] :   1.0 :   True\n",
      "          6 :  -Inf : x[F,1] + x[F,2] + x[F,3] :   1.0 :   True\n",
      "    C3 : Size=3, Index={1, 2, 3}, Active=True\n",
      "        Key : Lower : Body                                                : Upper : Active\n",
      "          1 :  -Inf : x[A,1] + x[B,1] + x[C,1] + x[D,1] + x[E,1] + x[F,1] :   1.0 :   True\n",
      "          2 :  -Inf : x[A,2] + x[B,2] + x[C,2] + x[D,2] + x[E,2] + x[F,2] :   1.0 :   True\n",
      "          3 :  -Inf : x[A,3] + x[B,3] + x[C,3] + x[D,3] + x[E,3] + x[F,3] :   1.0 :   True\n",
      "\n",
      "7 Declarations: setJ setD x obj C1 C2 C3\n"
     ]
    }
   ],
   "source": [
    "m.pprint()"
   ]
  },
  {
   "cell_type": "code",
   "execution_count": 11,
   "id": "cf1fded0-f1c2-408f-b734-8f8ff7a173cb",
   "metadata": {},
   "outputs": [
    {
     "name": "stdout",
     "output_type": "stream",
     "text": [
      "\n",
      "\n",
      "\n",
      "Total Profit: 1800.0\n",
      "Job E in day 1 (duration 6, profit 1000)\n",
      "Job B in day 2 (duration 3, profit 500)\n",
      "Job C in day 3 (duration 5, profit 300)\n"
     ]
    }
   ],
   "source": [
    "print('\\n\\n')\n",
    "print('Total Profit:', pyo.value(m.obj))\n",
    "for d in m.setD:\n",
    "    for j in m.setJ:\n",
    "        if pyo.value(m.x[j,d])>0.9:\n",
    "            print('Job %s in day %d (duration %i, profit %i)' % (j,d,m.D[j],m.P[j]))"
   ]
  },
  {
   "cell_type": "code",
   "execution_count": null,
   "id": "ea5d104a-9218-41d0-bdc6-eefb712cda3c",
   "metadata": {},
   "outputs": [],
   "source": []
  }
 ],
 "metadata": {
  "kernelspec": {
   "display_name": "Python 3 (ipykernel)",
   "language": "python",
   "name": "python3"
  },
  "language_info": {
   "codemirror_mode": {
    "name": "ipython",
    "version": 3
   },
   "file_extension": ".py",
   "mimetype": "text/x-python",
   "name": "python",
   "nbconvert_exporter": "python",
   "pygments_lexer": "ipython3",
   "version": "3.11.7"
  }
 },
 "nbformat": 4,
 "nbformat_minor": 5
}
